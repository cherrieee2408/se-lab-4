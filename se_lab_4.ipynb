{
  "nbformat": 4,
  "nbformat_minor": 0,
  "metadata": {
    "colab": {
      "provenance": [],
      "authorship_tag": "ABX9TyMteOdeePhpCsB+vGh/zqtI",
      "include_colab_link": true
    },
    "kernelspec": {
      "name": "python3",
      "display_name": "Python 3"
    },
    "language_info": {
      "name": "python"
    }
  },
  "cells": [
    {
      "cell_type": "markdown",
      "metadata": {
        "id": "view-in-github",
        "colab_type": "text"
      },
      "source": [
        "<a href=\"https://colab.research.google.com/github/cherrieee2408/se-lab-4/blob/main/se_lab_4.ipynb\" target=\"_parent\"><img src=\"https://colab.research.google.com/assets/colab-badge.svg\" alt=\"Open In Colab\"/></a>"
      ]
    },
    {
      "cell_type": "code",
      "execution_count": null,
      "metadata": {
        "colab": {
          "base_uri": "https://localhost:8080/"
        },
        "id": "Fsq4-_h9Q0K2",
        "outputId": "b08e9858-711b-43c0-e1e8-6b8a37ad6d5b"
      },
      "outputs": [
        {
          "output_type": "stream",
          "name": "stdout",
          "text": [
            "Predicted temperature at t = 5 is 25.5\n"
          ]
        }
      ],
      "source": [
        "# version1_hardcoded.py\n",
        "a = 0.5\n",
        "b = -3\n",
        "c = 28\n",
        "t = 5\n",
        "T = a * t**2 + b * t + c\n",
        "print(\"Predicted temperature at t =\", t, \"is\", T)"
      ]
    },
    {
      "cell_type": "code",
      "source": [
        "# version2_keyboard_input.py\n",
        "a = float(input(\"Enter a: \"))\n",
        "b = float(input(\"Enter b: \"))\n",
        "c = float(input(\"Enter c: \"))\n",
        "t = float(input(\"Enter time t: \"))\n",
        "T = a * t**2 + b * t + c\n",
        "print(\"Predicted temperature at t =\", t, \"is\", T)"
      ],
      "metadata": {
        "colab": {
          "base_uri": "https://localhost:8080/"
        },
        "id": "VNck0BmYQ-ld",
        "outputId": "f9cb6cff-237a-4e38-ddc2-f991c9a5f093"
      },
      "execution_count": null,
      "outputs": [
        {
          "output_type": "stream",
          "name": "stdout",
          "text": [
            "Enter a: 2\n",
            "Enter b: 3\n",
            "Enter c: 4\n",
            "Enter time t: 5\n",
            "Predicted temperature at t = 5.0 is 69.0\n"
          ]
        }
      ]
    },
    {
      "cell_type": "code",
      "source": [
        "# version3_file_input_single.py\n",
        "with open(\"inputs_single.txt\") as f:\n",
        "    a = float(f.readline())\n",
        "    b = float(f.readline())\n",
        "    c = float(f.readline())\n",
        "    t = float(f.readline())\n",
        "T = a * t**2 + b * t + c\n",
        "print(\"Predicted temperature at t =\", t, \"is\", T)\n"
      ],
      "metadata": {
        "colab": {
          "base_uri": "https://localhost:8080/"
        },
        "id": "wrwydMXiSOew",
        "outputId": "bf381aed-3e2f-4e64-bcbd-ab363a8bf651"
      },
      "execution_count": null,
      "outputs": [
        {
          "output_type": "stream",
          "name": "stdout",
          "text": [
            "Predicted temperature at t = 5.0 is 25.5\n"
          ]
        }
      ]
    },
    {
      "cell_type": "code",
      "source": [
        "# Create the input file\n",
        "with open(\"inputs_single.txt\", \"w\") as f:\n",
        "    f.write(\"0.5\\n\")\n",
        "    f.write(\"-3\\n\")\n",
        "    f.write(\"28\\n\")\n",
        "    f.write(\"5\\n\")"
      ],
      "metadata": {
        "id": "GKeEbNM3SR60"
      },
      "execution_count": null,
      "outputs": []
    },
    {
      "cell_type": "code",
      "source": [
        "# version4_file_input_multiple.py\n",
        "with open(\"inputs_multiple.txt\") as f:\n",
        "    for line in f:\n",
        "        a, b, c, t = map(float, line.split())\n",
        "        T = a * t**2 + b * t + c\n",
        "        print(\"a =\", a, \"b =\", b, \"c =\", c, \"t =\", t, \"=> T =\", T)\n"
      ],
      "metadata": {
        "colab": {
          "base_uri": "https://localhost:8080/"
        },
        "id": "XrLcHimiSV-a",
        "outputId": "c54cbb9b-a958-42a9-cdb6-0f8aab325fc8"
      },
      "execution_count": null,
      "outputs": [
        {
          "output_type": "stream",
          "name": "stdout",
          "text": [
            "a = 0.5 b = -3.0 c = 28.0 t = 5.0 => T = 25.5\n",
            "a = 1.0 b = 2.0 c = 3.0 t = 4.0 => T = 27.0\n",
            "a = 10.0 b = -5.0 c = 15.0 t = 2.0 => T = 45.0\n"
          ]
        }
      ]
    },
    {
      "cell_type": "code",
      "source": [
        "# Create the input file with multiple lines\n",
        "with open(\"inputs_multiple.txt\", \"w\") as f:\n",
        "    f.write(\"0.5 -3 28 5\\n\")\n",
        "    f.write(\"1 2 3 4\\n\")\n",
        "    f.write(\"10 -5 15 2\\n\")"
      ],
      "metadata": {
        "id": "4gK51ZJISZgP"
      },
      "execution_count": null,
      "outputs": []
    }
  ]
}