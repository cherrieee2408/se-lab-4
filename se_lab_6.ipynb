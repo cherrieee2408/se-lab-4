{
  "nbformat": 4,
  "nbformat_minor": 0,
  "metadata": {
    "colab": {
      "provenance": [],
      "authorship_tag": "ABX9TyPd1NutVvzxN+ciScJuL6Ae",
      "include_colab_link": true
    },
    "kernelspec": {
      "name": "python3",
      "display_name": "Python 3"
    },
    "language_info": {
      "name": "python"
    }
  },
  "cells": [
    {
      "cell_type": "markdown",
      "metadata": {
        "id": "view-in-github",
        "colab_type": "text"
      },
      "source": [
        "<a href=\"https://colab.research.google.com/github/cherrieee2408/se-lab-4/blob/main/se_lab_6.ipynb\" target=\"_parent\"><img src=\"https://colab.research.google.com/assets/colab-badge.svg\" alt=\"Open In Colab\"/></a>"
      ]
    },
    {
      "cell_type": "code",
      "execution_count": 1,
      "metadata": {
        "colab": {
          "base_uri": "https://localhost:8080/"
        },
        "id": "tx40H6pYlCPp",
        "outputId": "646d3770-e8a4-4b1c-c540-3aa64377c3ce"
      },
      "outputs": [
        {
          "output_type": "stream",
          "name": "stdout",
          "text": [
            "=== WATERFALL MODE ===\n",
            "Time: 0 hrs -> Predicted Temp: 24.00°C\n",
            "Time: 6 hrs -> Predicted Temp: 25.80°C\n",
            "Time: 12 hrs -> Predicted Temp: 13.20°C\n",
            "Time: 18 hrs -> Predicted Temp: -13.80°C\n",
            "Time: 24 hrs -> Predicted Temp: -55.20°C\n",
            "\n",
            "=== ITERATIVE MODE ===\n",
            "Iteration 1:\n",
            "Time: 0 hrs -> Temp: 24.00°C\n",
            "Time: 12 hrs -> Temp: 13.20°C\n",
            "Time: 24 hrs -> Temp: -55.20°C\n",
            "---\n",
            "Iteration 2:\n",
            "Time: 0 hrs -> Temp: 24.00°C\n",
            "Time: 12 hrs -> Temp: 13.20°C\n",
            "Time: 24 hrs -> Temp: -55.20°C\n",
            "---\n",
            "Iteration 3:\n",
            "Time: 0 hrs -> Temp: 24.00°C\n",
            "Time: 12 hrs -> Temp: 13.20°C\n",
            "Time: 24 hrs -> Temp: -55.20°C\n",
            "---\n",
            "\n",
            "=== AGILE MODE ===\n",
            "Sprint 1:\n",
            "Time: 0 hrs -> Temp: 24.00°C\n",
            "Time: 6 hrs -> Temp: 25.80°C\n",
            "Time: 12 hrs -> Temp: 13.20°C\n",
            "Time: 18 hrs -> Temp: -13.80°C\n",
            "Time: 24 hrs -> Temp: -55.20°C\n",
            "---\n",
            "Sprint 2:\n",
            "Time: 0 hrs -> Temp: 24.00°C\n",
            "Time: 6 hrs -> Temp: 25.80°C\n",
            "Time: 12 hrs -> Temp: 13.20°C\n",
            "Time: 18 hrs -> Temp: -13.80°C\n",
            "Time: 24 hrs -> Temp: -55.20°C\n",
            "---\n"
          ]
        }
      ],
      "source": [
        "# WEATHER MODELING - Quadratic equation in different development models\n",
        "# Works directly in Google Colab\n",
        "\n",
        "# Coefficients for quadratic model\n",
        "a = -0.2\n",
        "b = 1.5\n",
        "c = 24\n",
        "\n",
        "def quadratic_weather_model(time):\n",
        "    \"\"\"Predict temperature using quadratic equation.\"\"\"\n",
        "    return a * (time ** 2) + b * time + c\n",
        "\n",
        "# ===== WATERFALL MODE =====\n",
        "print(\"=== WATERFALL MODE ===\")\n",
        "for hour in range(0, 25, 6):  # every 6 hours\n",
        "    temp = quadratic_weather_model(hour)\n",
        "    print(f\"Time: {hour} hrs -> Predicted Temp: {temp:.2f}°C\")\n",
        "\n",
        "# ===== ITERATIVE MODE =====\n",
        "print(\"\\n=== ITERATIVE MODE ===\")\n",
        "for iteration in range(1, 4):\n",
        "    print(f\"Iteration {iteration}:\")\n",
        "    for hour in range(0, 25, 12):  # every 12 hours\n",
        "        temp = quadratic_weather_model(hour)\n",
        "        print(f\"Time: {hour} hrs -> Temp: {temp:.2f}°C\")\n",
        "    print(\"---\")\n",
        "\n",
        "# ===== AGILE MODE =====\n",
        "print(\"\\n=== AGILE MODE ===\")\n",
        "times_to_check = [0, 6, 12, 18, 24]\n",
        "for sprint in range(1, 3):\n",
        "    print(f\"Sprint {sprint}:\")\n",
        "    for t in times_to_check:\n",
        "        temp = quadratic_weather_model(t)\n",
        "        print(f\"Time: {t} hrs -> Temp: {temp:.2f}°C\")\n",
        "    print(\"---\")\n"
      ]
    }
  ]
}